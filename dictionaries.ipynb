{
 "cells": [
  {
   "cell_type": "code",
   "execution_count": 1,
   "id": "5e61bbbb",
   "metadata": {},
   "outputs": [
    {
     "name": "stdout",
     "output_type": "stream",
     "text": [
      "{'name': 'khsks', 'id': 45, 'agwe': 76}\n"
     ]
    }
   ],
   "source": [
    "student={\"name\":\"khsks\", \"id\": 45,\"agwe\": 76}\n",
    "print(student)"
   ]
  },
  {
   "cell_type": "code",
   "execution_count": 3,
   "id": "43044d74",
   "metadata": {},
   "outputs": [
    {
     "name": "stdout",
     "output_type": "stream",
     "text": [
      "('sjhh', 7, 'kds', True, 24.6)\n"
     ]
    }
   ],
   "source": [
    "num=(\"sjhh\",7,\"kds\",True,24.6) \n",
    "print(num)"
   ]
  },
  {
   "cell_type": "code",
   "execution_count": null,
   "id": "aa2e6fe0",
   "metadata": {},
   "outputs": [
    {
     "name": "stdout",
     "output_type": "stream",
     "text": [
      "12\n"
     ]
    }
   ],
   "source": [
    "add= lambda a,b: a+b\n",
    "print(add(5,7))\n"
   ]
  },
  {
   "cell_type": "code",
   "execution_count": 11,
   "id": "47d02e3d",
   "metadata": {},
   "outputs": [
    {
     "name": "stdout",
     "output_type": "stream",
     "text": [
      "[]\n"
     ]
    }
   ],
   "source": [
    "people=[\n",
    "    {\"name\":\"khh\",\"age\": 67,\"add\":\"djjh\"},\n",
    "    {\"name\":\"kawerhh\",\"age\": 34,\"add\":\"qrwer\"},\n",
    "    {\"name\":\"fg\",\"age\": 78,\"add\":\"afwf\"}\n",
    "]\n",
    "result= list(filter(lambda x: x==\"khh\" ,people))\n",
    "print(result)"
   ]
  },
  {
   "cell_type": "code",
   "execution_count": 21,
   "id": "52307f15",
   "metadata": {},
   "outputs": [
    {
     "ename": "AttributeError",
     "evalue": "module 'numpy' has no attribute 'array'",
     "output_type": "error",
     "traceback": [
      "\u001b[31m---------------------------------------------------------------------------\u001b[39m",
      "\u001b[31mAttributeError\u001b[39m                            Traceback (most recent call last)",
      "\u001b[36mCell\u001b[39m\u001b[36m \u001b[39m\u001b[32mIn[21]\u001b[39m\u001b[32m, line 6\u001b[39m\n\u001b[32m      3\u001b[39m py_arr = [\u001b[32m1\u001b[39m, \u001b[32m2\u001b[39m, \u001b[32m3\u001b[39m, \u001b[32m4\u001b[39m, \u001b[32m5\u001b[39m, \u001b[32m6\u001b[39m]\n\u001b[32m      5\u001b[39m \u001b[38;5;66;03m# Create NumPy array with same values\u001b[39;00m\n\u001b[32m----> \u001b[39m\u001b[32m6\u001b[39m numpy_arr = \u001b[43mnp\u001b[49m\u001b[43m.\u001b[49m\u001b[43marray\u001b[49m([\u001b[32m1\u001b[39m, \u001b[32m2\u001b[39m, \u001b[32m3\u001b[39m, \u001b[32m4\u001b[39m, \u001b[32m5\u001b[39m, \u001b[32m6\u001b[39m])\n\u001b[32m      8\u001b[39m \u001b[38;5;28mprint\u001b[39m(numpy_arr.itemsize * numpy_arr.size)\n",
      "\u001b[31mAttributeError\u001b[39m: module 'numpy' has no attribute 'array'"
     ]
    }
   ],
   "source": [
    "import numpy as np\n",
    "\n",
    "py_arr = [1, 2, 3, 4, 5, 6]\n",
    "\n",
    "# Create NumPy array with same values\n",
    "numpy_arr = np.array([1, 2, 3, 4, 5, 6])\n",
    "\n",
    "print(numpy_arr.itemsize * numpy_arr.size)\n"
   ]
  },
  {
   "cell_type": "code",
   "execution_count": null,
   "id": "a12b713a",
   "metadata": {},
   "outputs": [],
   "source": []
  }
 ],
 "metadata": {
  "kernelspec": {
   "display_name": ".venv",
   "language": "python",
   "name": "python3"
  },
  "language_info": {
   "codemirror_mode": {
    "name": "ipython",
    "version": 3
   },
   "file_extension": ".py",
   "mimetype": "text/x-python",
   "name": "python",
   "nbconvert_exporter": "python",
   "pygments_lexer": "ipython3",
   "version": "3.12.10"
  }
 },
 "nbformat": 4,
 "nbformat_minor": 5
}
