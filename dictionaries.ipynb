{
 "cells": [
  {
   "cell_type": "code",
   "execution_count": 1,
   "id": "5e61bbbb",
   "metadata": {},
   "outputs": [
    {
     "name": "stdout",
     "output_type": "stream",
     "text": [
      "{'name': 'khsks', 'id': 45, 'agwe': 76}\n"
     ]
    }
   ],
   "source": [
    "student={\"name\":\"khsks\", \"id\": 45,\"agwe\": 76}\n",
    "print(student)"
   ]
  },
  {
   "cell_type": "code",
   "execution_count": 3,
   "id": "43044d74",
   "metadata": {},
   "outputs": [
    {
     "name": "stdout",
     "output_type": "stream",
     "text": [
      "('sjhh', 7, 'kds', True, 24.6)\n"
     ]
    }
   ],
   "source": [
    "num=(\"sjhh\",7,\"kds\",True,24.6) \n",
    "print(num)"
   ]
  },
  {
   "cell_type": "code",
   "execution_count": null,
   "id": "aa2e6fe0",
   "metadata": {},
   "outputs": [
    {
     "name": "stdout",
     "output_type": "stream",
     "text": [
      "12\n"
     ]
    }
   ],
   "source": [
    "add= lambda a,b: a+b\n",
    "print(add(5,7))\n"
   ]
  },
  {
   "cell_type": "code",
   "execution_count": 11,
   "id": "47d02e3d",
   "metadata": {},
   "outputs": [
    {
     "name": "stdout",
     "output_type": "stream",
     "text": [
      "[]\n"
     ]
    }
   ],
   "source": [
    "people=[\n",
    "    {\"name\":\"khh\",\"age\": 67,\"add\":\"djjh\"},\n",
    "    {\"name\":\"kawerhh\",\"age\": 34,\"add\":\"qrwer\"},\n",
    "    {\"name\":\"fg\",\"age\": 78,\"add\":\"afwf\"}\n",
    "]\n",
    "result= list(filter(lambda x: x==\"khh\" ,people))\n",
    "print(result)"
   ]
  },
  {
   "cell_type": "code",
   "execution_count": null,
   "id": "1bb18e64",
   "metadata": {},
   "outputs": [],
   "source": []
  }
 ],
 "metadata": {
  "kernelspec": {
   "display_name": ".venv",
   "language": "python",
   "name": "python3"
  },
  "language_info": {
   "codemirror_mode": {
    "name": "ipython",
    "version": 3
   },
   "file_extension": ".py",
   "mimetype": "text/x-python",
   "name": "python",
   "nbconvert_exporter": "python",
   "pygments_lexer": "ipython3",
   "version": "3.12.10"
  }
 },
 "nbformat": 4,
 "nbformat_minor": 5
}
